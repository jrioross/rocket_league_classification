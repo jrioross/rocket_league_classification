{
 "cells": [
  {
   "cell_type": "markdown",
   "metadata": {},
   "source": [
    "# Rocket League Notebook 5: Neural Networks\n",
    "\n",
    "## Goals \n",
    "\n",
    "- Create models using neural networks\n",
    "\n",
    "## Contents\n",
    "\n",
    "- (I) First Neural Network (Kitchen Sink Approach)\n",
    "    - Matches is grouped by match_id and aggregated by mean\n",
    "    - Use VarianceThreshold with default settings\n",
    "    - Use StandardScaler with default settings on all columns\n",
    "    - Run MLPClassifier with hidden_layer_sizes set to (10,10), activation set to tanh, and max_iter set to 1000\n",
    "- (II) Neural Network: Kitchen Sink without Aggregation\n",
    "    - No prior aggregation of training set\n",
    "    - Use VarianceThreshold with default settings\n",
    "    - Use StandardScaler with default settings on all columns\n",
    "    - Run MLPClassifier with hidden_layer_sizes set to (10,10), activation set to tanh, and max_iter set to 1000\n",
    "- (III) Neural Network Kitchen Sink with Differences\n",
    "    - Matches is grouped by absolute values of differences between player (color) features\n",
    "    - Use VarianceThreshold with default settings\n",
    "    - Use StandardScaler with default settings on all columns\n",
    "    - Run MLPClassifier with hidden_layer_sizes set to (10,10), activation set to tanh, and max_iter set to 1000\n",
    "- (IV) Neural Network: Not Aggregated but with Cars\n",
    "    - No prior aggregation of training set\n",
    "    - OneHotEncode car_names, passthrough all other features\n",
    "    - Use VarianceThreshold with default settings\n",
    "    - Use StandardScaler with default settings on all columns\n",
    "    - Run MLPClassifier with hidden_layer_sizes set to (10,10), activation set to tanh, and max_iter set to 1000\n",
    "- (V) Neural Network: Not Aggregated, include cars and include engineered features\n",
    "    - No prior aggregation of training set\n",
    "    - Add the following features to the dataset:\n",
    "        - score_per_second = lambda x: x['score']/x['duration'],\n",
    "        - lowvhigh = lambda x: x['percent_low_air']/x['percent_high_air'],\n",
    "        - percent_boost_50_100 = lambda x: x['percent_boost_50_75']+x['percent_boost_75_100'],\n",
    "        - goals_saves_pm = lambda x: (x['goals']+x['saves'])*60/x['duration'],\n",
    "        - save_prop = lambda x: x['saves']/x['shots_against']\n",
    "    - OneHotEncode car_names, passthrough all other features\n",
    "    - Use VarianceThreshold with default settings\n",
    "    - Use StandardScaler with default settings on all columns\n",
    "    - Run MLPClassifier with hidden_layer_sizes set to (10,10), activation set to tanh, and max_iter set to 1000\n",
    "- (VI) Neural Network with Matches Wide, no cars\n",
    "    - No prior aggregation of training set\n",
    "    - Widen dataset so that each column has a _winner and _loser suffix and is all on the same line\n",
    "    - Use VarianceThreshold with default settings\n",
    "    - Use StandardScaler with default settings on all columns\n",
    "    - Run MLPClassifier with hidden_layer_sizes set to (10,10), activation set to tanh, and max_iter set to 1000\n",
    "\n",
    "## Results\n",
    "\n",
    "- (I) First Neural Network (Kitchen Sink Approach)\n",
    "    - Accuracy Score:  0.5537113265170628\n",
    "    - Improvement over logistic regression without much extra effort. Sacrificed interpretability.\n",
    "    - Yields *submission_2022-03-30_v1.csv*\n",
    "- (II) Neural Network: Kitchen Sink without Aggregation\n",
    "    - Accuracy Score:  0.49392470619480777\n",
    "    - Worse than with aggregation\n",
    "- (III) Neural Network Kitchen Sink with Differences\n",
    "    - Accuracy Score:  0.34085778781038373\n",
    "    - Much worse than aggregated data\n",
    "- (IV) Neural Network: Not Aggregated but with Cars\n",
    "    - Accuracy Score:  0.4967133656463714\n",
    "    - Very slight improvement over simply not including cars\n",
    "- (V) Neural Network: Not Aggregated, include cars and include engineered features\n",
    "    - Accuracy score:  0.4932607396587212\n",
    "    - No improvement when tacking on engineered features, though perhaps these could replace some raw features\n",
    "- (VI) Neural Network with Matches Wide, no cars\n",
    "    - Accuracy score:  0.48293719293586507\n",
    "    - Slightly worse than unaggregated long with no cars. More opportunity of feature engineering here, though."
   ]
  },
  {
   "cell_type": "markdown",
   "metadata": {},
   "source": [
    "## Imports"
   ]
  },
  {
   "cell_type": "code",
   "execution_count": 35,
   "metadata": {},
   "outputs": [],
   "source": [
    "import pandas as pd\n",
    "import numpy as np\n",
    "from sklearn.model_selection import train_test_split\n",
    "from sklearn.metrics import accuracy_score, confusion_matrix, classification_report\n",
    "import seaborn as sns\n",
    "from sklearn.compose import ColumnTransformer\n",
    "from sklearn.feature_selection import VarianceThreshold\n",
    "from sklearn.neural_network import MLPClassifier, MLPRegressor\n",
    "from sklearn.preprocessing import MinMaxScaler, StandardScaler, OneHotEncoder\n",
    "from sklearn.pipeline import Pipeline"
   ]
  },
  {
   "cell_type": "markdown",
   "metadata": {},
   "source": [
    "## Read In"
   ]
  },
  {
   "cell_type": "code",
   "execution_count": 19,
   "metadata": {},
   "outputs": [],
   "source": [
    "matches = pd.read_csv('../data/train.csv')\n",
    "test = pd.read_csv('../data/test.csv')"
   ]
  },
  {
   "cell_type": "markdown",
   "metadata": {},
   "source": [
    "## Converters and Functions"
   ]
  },
  {
   "cell_type": "code",
   "execution_count": 20,
   "metadata": {},
   "outputs": [],
   "source": [
    "converter = { 'bronze': 1, 'silver': 2, 'gold': 3, 'platinum': 4, 'diamond': 5, 'champion': 6 }\n",
    "catvars = ['rank', 'color', 'map_code', 'car_name']"
   ]
  },
  {
   "cell_type": "code",
   "execution_count": 21,
   "metadata": {},
   "outputs": [],
   "source": [
    "def filter_outliers(df, col):\n",
    "    Q1 = df[col].quantile(0.25)\n",
    "    Q3 = df[col].quantile(0.75)\n",
    "    IQR = Q3 - Q1\n",
    "    lowbound = Q1-1.5*IQR\n",
    "    highbound = Q3+1.5*IQR\n",
    "    df_bounded = df[(df[col] >= lowbound) & (df[col] <= highbound)]\n",
    "\n",
    "    return df_bounded"
   ]
  },
  {
   "cell_type": "markdown",
   "metadata": {},
   "source": [
    "## Outlier Filter"
   ]
  },
  {
   "cell_type": "code",
   "execution_count": 22,
   "metadata": {},
   "outputs": [],
   "source": [
    "numcols = matches.drop(columns = ['match_id', 'color', 'rank', 'map_code', 'car_name', 'mvp']).columns"
   ]
  },
  {
   "cell_type": "code",
   "execution_count": 23,
   "metadata": {},
   "outputs": [
    {
     "data": {
      "text/plain": [
       "(22216, 91)"
      ]
     },
     "execution_count": 23,
     "metadata": {},
     "output_type": "execute_result"
    }
   ],
   "source": [
    "matches_inliers = matches.copy()\n",
    "\n",
    "for col in matches_inliers[numcols].columns:\n",
    "\n",
    "    matches_inliers = filter_outliers(matches_inliers, col)\n",
    "\n",
    "matches_inliers.shape"
   ]
  },
  {
   "cell_type": "markdown",
   "metadata": {},
   "source": [
    "## (I) First Neural Network (Kitchen Sink Approach)"
   ]
  },
  {
   "cell_type": "code",
   "execution_count": 24,
   "metadata": {},
   "outputs": [
    {
     "data": {
      "text/plain": [
       "0.5537113265170628"
      ]
     },
     "execution_count": 24,
     "metadata": {},
     "output_type": "execute_result"
    }
   ],
   "source": [
    "matches_prepped = matches.groupby(['match_id', 'rank']).mean().reset_index().fillna(0)\n",
    "\n",
    "X = matches_prepped.drop(columns = ['match_id', 'rank'])\n",
    "y = matches_prepped['rank']\n",
    "\n",
    "X_train, X_test, y_train, y_test = train_test_split(X, y, random_state=42, stratify = y)\n",
    "\n",
    "pipe = Pipeline(steps = [\n",
    "        ('vt', VarianceThreshold()),\n",
    "        ('scaler', StandardScaler()),\n",
    "        ('neural', MLPClassifier(hidden_layer_sizes = (10,10),\n",
    "                                 activation = 'tanh',\n",
    "                                 max_iter = 1000))\n",
    "    ])\n",
    "\n",
    "pipe.fit(X_train, y_train)\n",
    "accuracy_score(y_test, pipe.predict(X_test))"
   ]
  },
  {
   "cell_type": "code",
   "execution_count": 25,
   "metadata": {},
   "outputs": [
    {
     "name": "stdout",
     "output_type": "stream",
     "text": [
      "              precision    recall  f1-score   support\n",
      "\n",
      "      bronze       0.53      0.30      0.38       184\n",
      "    champion       0.69      0.71      0.70      1470\n",
      "     diamond       0.49      0.48      0.48      1729\n",
      "        gold       0.55      0.57      0.56      1563\n",
      "    platinum       0.51      0.54      0.52      1875\n",
      "      silver       0.58      0.48      0.52       710\n",
      "\n",
      "    accuracy                           0.55      7531\n",
      "   macro avg       0.56      0.51      0.53      7531\n",
      "weighted avg       0.55      0.55      0.55      7531\n",
      "\n"
     ]
    }
   ],
   "source": [
    "print(classification_report(y_test, pipe.predict(X_test)))"
   ]
  },
  {
   "cell_type": "code",
   "execution_count": 26,
   "metadata": {},
   "outputs": [
    {
     "data": {
      "text/plain": [
       "Pipeline(steps=[('vt', VarianceThreshold()), ('scaler', StandardScaler()),\n",
       "                ('logreg',\n",
       "                 MLPClassifier(activation='tanh', hidden_layer_sizes=(10, 10),\n",
       "                               max_iter=1000))])"
      ]
     },
     "execution_count": 26,
     "metadata": {},
     "output_type": "execute_result"
    }
   ],
   "source": [
    "pipe.fit(X, y)"
   ]
  },
  {
   "cell_type": "code",
   "execution_count": 27,
   "metadata": {},
   "outputs": [],
   "source": [
    "test_prep = test.groupby('match_id').mean().reset_index().fillna(0)\n",
    "y_pred = pipe.predict(test_prep.drop(columns = 'match_id'))"
   ]
  },
  {
   "cell_type": "code",
   "execution_count": 28,
   "metadata": {},
   "outputs": [],
   "source": [
    "submission = pd.DataFrame({'match_id':test_prep.index, 'rank': y_pred})\n",
    "submission['rank'] = submission['rank'].map(converter)\n",
    "submission['match_id'] = submission['match_id']+30121\n",
    "#submission.to_csv('../submissions/submission_2022-03-30_v1.csv', index = False)"
   ]
  },
  {
   "cell_type": "markdown",
   "metadata": {},
   "source": [
    "## (II) Neural Network: Kitchen Sink without Aggregation\n",
    "\n",
    "Worse than aggregated data."
   ]
  },
  {
   "cell_type": "code",
   "execution_count": 29,
   "metadata": {},
   "outputs": [
    {
     "data": {
      "text/plain": [
       "0.49392470619480777"
      ]
     },
     "execution_count": 29,
     "metadata": {},
     "output_type": "execute_result"
    }
   ],
   "source": [
    "X = matches.drop(columns = catvars).fillna(0)\n",
    "y = matches['rank']\n",
    "\n",
    "X_train, X_test, y_train, y_test = train_test_split(X, y, random_state=42, stratify = y)\n",
    "\n",
    "pipe = Pipeline(steps = [\n",
    "        ('vt', VarianceThreshold()),\n",
    "        ('scaler', StandardScaler()),\n",
    "        ('neural', MLPClassifier(hidden_layer_sizes = (10,10),\n",
    "                                 activation = 'tanh',\n",
    "                                 max_iter = 1000))\n",
    "    ])\n",
    "\n",
    "pipe.fit(X_train, y_train)\n",
    "accuracy_score(y_test, pipe.predict(X_test))"
   ]
  },
  {
   "cell_type": "markdown",
   "metadata": {},
   "source": [
    "## (III) Neural Network Kitchen Sink with Differences\n",
    "\n",
    "Much worse than aggregated data."
   ]
  },
  {
   "cell_type": "code",
   "execution_count": 30,
   "metadata": {},
   "outputs": [
    {
     "data": {
      "text/plain": [
       "0.34085778781038373"
      ]
     },
     "execution_count": 30,
     "metadata": {},
     "output_type": "execute_result"
    }
   ],
   "source": [
    "match_diffs = (matches.drop(columns=catvars)\n",
    "        .fillna(0)\n",
    "        .groupby('match_id')\n",
    "        .diff()\n",
    "        .abs()\n",
    "        .dropna()\n",
    "        .reset_index(drop = True).reset_index()\n",
    "        .rename(columns = {'index' : 'match_id'})\n",
    "    )\n",
    "match_diffs = match_diffs.merge(matches[['match_id', 'rank']].drop_duplicates())\n",
    "X = match_diffs.drop(columns = 'rank')\n",
    "y = match_diffs['rank']\n",
    "\n",
    "X_train, X_test, y_train, y_test = train_test_split(X, y, random_state=42, stratify = y)\n",
    "\n",
    "pipe = Pipeline(steps = [\n",
    "        ('vt', VarianceThreshold()),\n",
    "        ('scaler', StandardScaler()),\n",
    "        ('neural', MLPClassifier(hidden_layer_sizes = (10,10),\n",
    "                                 activation = 'tanh',\n",
    "                                 max_iter = 1000))\n",
    "    ])\n",
    "\n",
    "pipe.fit(X_train, y_train)\n",
    "accuracy_score(y_test, pipe.predict(X_test))"
   ]
  },
  {
   "cell_type": "markdown",
   "metadata": {},
   "source": [
    "## (IV) Neural Network: Not Aggregated but with Cars"
   ]
  },
  {
   "cell_type": "code",
   "execution_count": 32,
   "metadata": {},
   "outputs": [
    {
     "data": {
      "text/plain": [
       "0.4967133656463714"
      ]
     },
     "execution_count": 32,
     "metadata": {},
     "output_type": "execute_result"
    }
   ],
   "source": [
    "dropcols = ['match_id', 'color', 'rank', 'map_code']\n",
    "X = matches.drop(columns = dropcols).fillna(0)\n",
    "y = matches['rank']\n",
    "\n",
    "X_train, X_test, y_train, y_test = train_test_split(X, y, random_state=42, stratify = y)\n",
    "\n",
    "ohe = OneHotEncoder(sparse = False, drop = 'first')\n",
    "\n",
    "ct = ColumnTransformer(transformers= [\n",
    "        ('ohe', ohe, ['car_name'])\n",
    "        ],\n",
    "        remainder = 'passthrough'\n",
    "    )\n",
    "\n",
    "pipe = Pipeline(steps = [\n",
    "        ('ct', ct),\n",
    "        ('vt', VarianceThreshold()),\n",
    "        ('scaler', StandardScaler()),\n",
    "        ('neural', MLPClassifier(hidden_layer_sizes = (10,10),\n",
    "                                 activation = 'tanh',\n",
    "                                 max_iter = 1000))\n",
    "    ])\n",
    "\n",
    "pipe.fit(X_train, y_train)\n",
    "accuracy_score(y_test, pipe.predict(X_test))"
   ]
  },
  {
   "cell_type": "markdown",
   "metadata": {},
   "source": [
    "## (V) Neural Network: Not Aggregated, include cars and include engineered features"
   ]
  },
  {
   "cell_type": "code",
   "execution_count": 36,
   "metadata": {},
   "outputs": [
    {
     "name": "stdout",
     "output_type": "stream",
     "text": [
      "0.4932607396587212\n"
     ]
    }
   ],
   "source": [
    "matches_plus = matches.assign(\n",
    "            score_per_second = lambda x: x['score']/x['duration'],\n",
    "            lowvhigh = lambda x: x['percent_low_air']/x['percent_high_air'],\n",
    "            percent_boost_50_100 = lambda x: x['percent_boost_50_75']+x['percent_boost_75_100'],\n",
    "            goals_saves_pm = lambda x: (x['goals']+x['saves'])*60/x['duration'],\n",
    "            save_prop = lambda x: x['saves']/x['shots_against']\n",
    "    ).replace([np.inf, -np.inf], 0).fillna(0)\n",
    "\n",
    "X = matches_plus.drop(columns=dropcols)\n",
    "y = matches_plus['rank']\n",
    "\n",
    "X_train, X_test, y_train, y_test = train_test_split(X, y, random_state=42, stratify= y)\n",
    "\n",
    "ohe = OneHotEncoder(sparse= False, drop='first')\n",
    "\n",
    "ct = ColumnTransformer(transformers = [\n",
    "            ('ohe', ohe, ['car_name'])\n",
    "        ],\n",
    "        remainder='passthrough'\n",
    "    )\n",
    "\n",
    "neural = MLPClassifier(hidden_layer_sizes=(10,10),\n",
    "                      activation='tanh',\n",
    "                      max_iter=1000)\n",
    "\n",
    "pipe = Pipeline(steps = [\n",
    "    ('ct', ct),\n",
    "    ('vt', VarianceThreshold()),\n",
    "    ('scaler', StandardScaler()),\n",
    "    ('neural', neural)\n",
    "])\n",
    "\n",
    "pipe.fit(X_train, y_train)\n",
    "y_pred = pipe.predict(X_test)\n",
    "print(accuracy_score(y_test, y_pred))"
   ]
  },
  {
   "cell_type": "markdown",
   "metadata": {},
   "source": [
    "## (VI) Neural Network with Matches Wide, no cars"
   ]
  },
  {
   "cell_type": "code",
   "execution_count": 37,
   "metadata": {},
   "outputs": [],
   "source": [
    "matches_win = matches.sort_values(['match_id', 'goals', 'score'], ascending=[True, False, False]).drop_duplicates(subset = ['match_id'], keep = 'first')\n",
    "matches_lose = matches.sort_values(['match_id', 'goals', 'score'], ascending=[True, False, False]).drop_duplicates(subset = ['match_id'], keep = 'first')\n",
    "matches_wide = matches_win.merge(matches_lose, on = ['match_id', 'rank', 'map_code'], suffixes=('_win','_lose'))"
   ]
  },
  {
   "cell_type": "code",
   "execution_count": 38,
   "metadata": {},
   "outputs": [
    {
     "data": {
      "text/plain": [
       "0.48293719293586507"
      ]
     },
     "execution_count": 38,
     "metadata": {},
     "output_type": "execute_result"
    }
   ],
   "source": [
    "dropcols_wide = ['match_id', 'color_win', 'color_lose', 'rank', 'map_code', 'car_name_win', 'car_name_lose']\n",
    "X = matches_wide.drop(columns = dropcols_wide).fillna(0)\n",
    "y = matches_wide['rank']\n",
    "\n",
    "X_train, X_test, y_train, y_test = train_test_split(X, y, random_state=42, stratify = y)\n",
    "\n",
    "# ohe = OneHotEncoder(sparse = False, drop = 'first')\n",
    "\n",
    "# ct = ColumnTransformer(transformers= [\n",
    "#         ('ohe', ohe, ['car_name'])\n",
    "#         ],\n",
    "#         remainder = 'passthrough'\n",
    "#     )\n",
    "\n",
    "pipe = Pipeline(steps = [\n",
    "        # ('ct', ct),\n",
    "        ('vt', VarianceThreshold()),\n",
    "        ('scaler', StandardScaler()),\n",
    "        ('neural', MLPClassifier(hidden_layer_sizes = (10,10),\n",
    "                                 activation = 'tanh',\n",
    "                                 max_iter = 1000))\n",
    "    ])\n",
    "\n",
    "pipe.fit(X_train, y_train)\n",
    "accuracy_score(y_test, pipe.predict(X_test))"
   ]
  }
 ],
 "metadata": {
  "interpreter": {
   "hash": "91809cd6930bcd5c93f1baaa8e75dc4fbfa15bbd921b33b01843a7cf2fa05e32"
  },
  "kernelspec": {
   "display_name": "Python 3.8.8 ('base')",
   "language": "python",
   "name": "python3"
  },
  "language_info": {
   "codemirror_mode": {
    "name": "ipython",
    "version": 3
   },
   "file_extension": ".py",
   "mimetype": "text/x-python",
   "name": "python",
   "nbconvert_exporter": "python",
   "pygments_lexer": "ipython3",
   "version": "3.8.8"
  },
  "orig_nbformat": 4
 },
 "nbformat": 4,
 "nbformat_minor": 2
}
