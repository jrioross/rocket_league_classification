{
 "cells": [
  {
   "cell_type": "markdown",
   "metadata": {},
   "source": [
    "# Rocket League 8: The Ocho"
   ]
  },
  {
   "cell_type": "markdown",
   "metadata": {},
   "source": [
    "## Imports"
   ]
  },
  {
   "cell_type": "code",
   "execution_count": 59,
   "metadata": {},
   "outputs": [],
   "source": [
    "import pandas as pd\n",
    "import numpy as np\n",
    "import seaborn as sns\n",
    "import plotly.express as px\n",
    "import featuretools as ft\n",
    "from sklearn.model_selection import train_test_split\n",
    "from sklearn.metrics import accuracy_score, confusion_matrix, classification_report\n",
    "from imblearn.over_sampling import SMOTE\n",
    "from sklearn.compose import ColumnTransformer\n",
    "from sklearn.feature_selection import VarianceThreshold\n",
    "from sklearn.neural_network import MLPClassifier, MLPRegressor\n",
    "from sklearn.preprocessing import MinMaxScaler, StandardScaler, OneHotEncoder\n",
    "from sklearn.pipeline import Pipeline\n",
    "from sklearn.ensemble import RandomForestClassifier\n",
    "from sklearn.ensemble import GradientBoostingClassifier"
   ]
  },
  {
   "cell_type": "markdown",
   "metadata": {},
   "source": [
    "## Read in"
   ]
  },
  {
   "cell_type": "code",
   "execution_count": 22,
   "metadata": {},
   "outputs": [],
   "source": [
    "matches =  pd.read_csv('../data/train.csv')\n",
    "test = pd.read_csv('../data/train.csv')"
   ]
  },
  {
   "cell_type": "markdown",
   "metadata": {},
   "source": [
    "## Converters and functions"
   ]
  },
  {
   "cell_type": "code",
   "execution_count": 23,
   "metadata": {},
   "outputs": [],
   "source": [
    "converter = { 'bronze': 1, 'silver': 2, 'gold': 3, 'platinum': 4, 'diamond': 5, 'champion': 6 }\n",
    "order = ['bronze', 'silver', 'gold', 'platinum', 'diamond', 'champion']\n",
    "order_dict = {'rank':order}\n",
    "catvars = ['rank', 'color', 'map_code', 'car_name']\n",
    "skewvars = ['avg_powerslide_duration',\n",
    "            'demos_inflicted',                       \n",
    "            'demos_taken',                    \n",
    "            'percent_most_back',                     \n",
    "            'percent_most_forward',                  \n",
    "            'percent_closest_to_ball',               \n",
    "            'percent_farthest_from_ball']\n",
    "useless = ['assists', 'mvp', 'map_code','color','time_defensive_third',\n",
    "            'time_neutral_third', 'time_offensive_third', 'time_defensive_half',\n",
    "            'time_offensive_half', 'time_behind_ball', 'time_infront_ball',\n",
    "            'time_most_back', 'time_most_forward',\n",
    "            'goals_against_while_last_defender', 'time_closest_to_ball',\n",
    "            'time_farthest_from_ball', 'percent_defensive_third',\n",
    "            'percent_offensive_third', 'percent_neutral_third',\n",
    "            'percent_defensive_half', 'percent_offensive_half',\n",
    "            'percent_behind_ball', 'percent_infront_ball', 'percent_most_back',\n",
    "            'percent_most_forward', 'percent_closest_to_ball',\n",
    "            'percent_farthest_from_ball', 'demos_inflicted', 'demos_taken']"
   ]
  },
  {
   "cell_type": "code",
   "execution_count": 24,
   "metadata": {},
   "outputs": [],
   "source": [
    "def find_outliers(col):\n",
    "\n",
    "    try:\n",
    "        Q1 = col.quantile(0.25)\n",
    "        Q3 = col.quantile(0.75)\n",
    "        IQR = Q3 - Q1\n",
    "        lowbound = Q1-(1.5*IQR)\n",
    "        highbound = Q3+(1.5*IQR)\n",
    "        df_outliers = (col >= lowbound) & (col <= highbound)\n",
    "    except:\n",
    "        df_outliers = (col == col)\n",
    "\n",
    "    return df_outliers\n",
    "\n",
    "def filter_outliers(df):\n",
    "\n",
    "    filtered_df = df[df.apply(find_outliers).all(axis = 'columns')]\n",
    "\n",
    "    return filtered_df"
   ]
  },
  {
   "cell_type": "code",
   "execution_count": 25,
   "metadata": {},
   "outputs": [],
   "source": [
    "def use_filter_outliers(df, filtout):\n",
    "\n",
    "    if filtout == True:\n",
    "        return filter_outliers(df)\n",
    "    else:\n",
    "        return df\n",
    "\n",
    "def plotly_feature(df, col, filtout = True):\n",
    "\n",
    "    fig = px.box(\n",
    "            use_filter_outliers(df, filtout),\n",
    "            x = 'rank',\n",
    "            y = col,\n",
    "            category_orders=order_dict,\n",
    "            color = 'rank'\n",
    "            )\n",
    "    return fig.show()"
   ]
  },
  {
   "cell_type": "markdown",
   "metadata": {},
   "source": [
    "## Reshape matches"
   ]
  },
  {
   "cell_type": "code",
   "execution_count": 26,
   "metadata": {},
   "outputs": [
    {
     "data": {
      "text/plain": [
       "(60242, 91)"
      ]
     },
     "execution_count": 26,
     "metadata": {},
     "output_type": "execute_result"
    }
   ],
   "source": [
    "matches.shape"
   ]
  },
  {
   "cell_type": "code",
   "execution_count": 27,
   "metadata": {},
   "outputs": [
    {
     "data": {
      "text/plain": [
       "Index(['match_id', 'color', 'rank', 'map_code', 'duration', 'car_name',\n",
       "       'possession_time', 'time_in_side', 'shots', 'shots_against', 'goals',\n",
       "       'goals_against', 'saves', 'assists', 'score', 'mvp',\n",
       "       'shooting_percentage', 'bpm', 'bcpm', 'avg_amount', 'amount_collected',\n",
       "       'amount_stolen', 'amount_collected_big', 'amount_stolen_big',\n",
       "       'amount_collected_small', 'amount_stolen_small', 'count_collected_big',\n",
       "       'count_stolen_big', 'count_collected_small', 'count_stolen_small'],\n",
       "      dtype='object')"
      ]
     },
     "execution_count": 27,
     "metadata": {},
     "output_type": "execute_result"
    }
   ],
   "source": [
    "matches.columns[:30]"
   ]
  },
  {
   "cell_type": "code",
   "execution_count": 28,
   "metadata": {},
   "outputs": [
    {
     "data": {
      "text/plain": [
       "Index(['amount_overfill', 'amount_overfill_stolen',\n",
       "       'amount_used_while_supersonic', 'time_zero_boost', 'percent_zero_boost',\n",
       "       'time_full_boost', 'percent_full_boost', 'time_boost_0_25',\n",
       "       'time_boost_25_50', 'time_boost_50_75', 'time_boost_75_100',\n",
       "       'percent_boost_0_25', 'percent_boost_25_50', 'percent_boost_50_75',\n",
       "       'percent_boost_75_100', 'avg_speed', 'total_distance',\n",
       "       'time_supersonic_speed', 'time_boost_speed', 'time_slow_speed',\n",
       "       'time_ground', 'time_low_air', 'time_high_air', 'time_powerslide',\n",
       "       'count_powerslide', 'avg_powerslide_duration', 'avg_speed_percentage',\n",
       "       'percent_slow_speed', 'percent_boost_speed',\n",
       "       'percent_supersonic_speed'],\n",
       "      dtype='object')"
      ]
     },
     "execution_count": 28,
     "metadata": {},
     "output_type": "execute_result"
    }
   ],
   "source": [
    "matches.columns[30:60]"
   ]
  },
  {
   "cell_type": "code",
   "execution_count": 29,
   "metadata": {},
   "outputs": [
    {
     "data": {
      "text/plain": [
       "Index(['percent_ground', 'percent_low_air', 'percent_high_air',\n",
       "       'avg_distance_to_ball', 'avg_distance_to_ball_possession',\n",
       "       'avg_distance_to_ball_no_possession', 'time_defensive_third',\n",
       "       'time_neutral_third', 'time_offensive_third', 'time_defensive_half',\n",
       "       'time_offensive_half', 'time_behind_ball', 'time_infront_ball',\n",
       "       'time_most_back', 'time_most_forward',\n",
       "       'goals_against_while_last_defender', 'time_closest_to_ball',\n",
       "       'time_farthest_from_ball', 'percent_defensive_third',\n",
       "       'percent_offensive_third', 'percent_neutral_third',\n",
       "       'percent_defensive_half', 'percent_offensive_half',\n",
       "       'percent_behind_ball', 'percent_infront_ball', 'percent_most_back',\n",
       "       'percent_most_forward', 'percent_closest_to_ball',\n",
       "       'percent_farthest_from_ball', 'demos_inflicted', 'demos_taken'],\n",
       "      dtype='object')"
      ]
     },
     "execution_count": 29,
     "metadata": {},
     "output_type": "execute_result"
    }
   ],
   "source": [
    "matches.columns[60:]"
   ]
  },
  {
   "cell_type": "code",
   "execution_count": 30,
   "metadata": {},
   "outputs": [],
   "source": [
    "matches_win = matches.sort_values(['match_id', 'goals', 'score'], ascending=[True, False, False]).drop_duplicates(subset = ['match_id'], keep = 'first')\n",
    "matches_lose = matches.sort_values(['match_id', 'goals', 'score'], ascending=[True, False, False]).drop_duplicates(subset = ['match_id'], keep = 'first')\n",
    "matches_wide = matches_win.merge(matches_lose, on = ['match_id', 'rank', 'map_code'], suffixes=('_win','_lose'))"
   ]
  },
  {
   "cell_type": "code",
   "execution_count": 31,
   "metadata": {},
   "outputs": [
    {
     "data": {
      "text/plain": [
       "(30121, 179)"
      ]
     },
     "execution_count": 31,
     "metadata": {},
     "output_type": "execute_result"
    }
   ],
   "source": [
    "matches_wide.shape"
   ]
  },
  {
   "cell_type": "markdown",
   "metadata": {},
   "source": [
    "## Engineer features"
   ]
  },
  {
   "cell_type": "code",
   "execution_count": 53,
   "metadata": {},
   "outputs": [],
   "source": [
    "matches_wider = matches_wide.assign(\n",
    "    percent_closest_diff = lambda x: x['percent_closest_to_ball_win']/x['percent_closest_to_ball_lose'],\n",
    "    ground_low_air = lambda x: x['percent_ground_win']+x['percent_low_air_win']+x['percent_ground_lose']+x['percent_low_air_lose'],\n",
    "    boosts_per_collected = lambda x: (x['bpm_win']+x['bpm_lose'])/(x['bcpm_win']+x['bcpm_lose']),\n",
    "    save_prop = lambda x: (x['saves_win']+x['saves_lose'])/(x['shots_against_win']+x['shots_against_lose']),\n",
    "    mean_percent_supersonic_speed = lambda x: (x['percent_supersonic_speed_win']+x['percent_supersonic_speed_lose'])/2,\n",
    "    mean_percent_supersonic_speed_squared = lambda x: ((x['percent_supersonic_speed_win']+x['percent_supersonic_speed_lose'])/2)**2,\n",
    "    avg_powerslide_durations = lambda x: np.log(((x['avg_powerslide_duration_win']+x['avg_powerslide_duration_lose'])/2)+0.01)\n",
    ")"
   ]
  },
  {
   "cell_type": "code",
   "execution_count": 63,
   "metadata": {},
   "outputs": [
    {
     "data": {
      "text/plain": [
       "Index(['match_id', 'rank', 'percent_closest_diff', 'ground_low_air',\n",
       "       'boosts_per_collected', 'save_prop', 'mean_percent_supersonic_speed',\n",
       "       'mean_percent_supersonic_speed_squared', 'avg_powerslide_durations'],\n",
       "      dtype='object')"
      ]
     },
     "execution_count": 63,
     "metadata": {},
     "output_type": "execute_result"
    }
   ],
   "source": [
    "matches_eng = matches_wider.drop(columns = matches_wide.drop(columns = ['match_id','rank']).columns).groupby('rank').apply(filter_outliers)\n",
    "matches_eng.columns"
   ]
  },
  {
   "cell_type": "markdown",
   "metadata": {},
   "source": [
    "## Model with features and check importance\n",
    "\n",
    "Unimpressive"
   ]
  },
  {
   "cell_type": "code",
   "execution_count": 58,
   "metadata": {},
   "outputs": [
    {
     "data": {
      "text/plain": [
       "0.3846273533530419"
      ]
     },
     "execution_count": 58,
     "metadata": {},
     "output_type": "execute_result"
    }
   ],
   "source": [
    "X = matches_eng.drop(columns = ['rank'])\n",
    "y = matches_eng['rank']\n",
    "\n",
    "X_train, X_test, y_train, y_test = train_test_split(X, y, random_state=42, stratify = y)\n",
    "\n",
    "pipe = Pipeline(steps = [\n",
    "        ('vt', VarianceThreshold()),\n",
    "        ('scaler', StandardScaler()),\n",
    "        ('rf', RandomForestClassifier())\n",
    "    ])\n",
    "\n",
    "pipe.fit(X_train, y_train)\n",
    "accuracy_score(y_test, pipe.predict(X_test))"
   ]
  },
  {
   "cell_type": "markdown",
   "metadata": {},
   "source": [
    "## Old model with only winners/losers data\n",
    "\n",
    "Neither dataset seems more predictive than the other, so best to keep them together.\n",
    "\n",
    "- With outliers, both perform around 0.45\n",
    "- Without outliers, both perform around 0.48"
   ]
  },
  {
   "cell_type": "code",
   "execution_count": 39,
   "metadata": {},
   "outputs": [
    {
     "data": {
      "text/plain": [
       "0.4485460098260523"
      ]
     },
     "execution_count": 39,
     "metadata": {},
     "output_type": "execute_result"
    }
   ],
   "source": [
    "matches_lose_fo = matches_lose.fillna(0)#.groupby('rank').apply(filter_outliers)\n",
    "X = matches_lose_fo.drop(columns = ['rank','car_name', 'map_code', 'color'])\n",
    "y = matches_lose_fo['rank']\n",
    "\n",
    "X_train, X_test, y_train, y_test = train_test_split(X, y, random_state=42, stratify = y)\n",
    "\n",
    "pipe = Pipeline(steps = [\n",
    "        ('vt', VarianceThreshold()),\n",
    "        ('scaler', StandardScaler()),\n",
    "        ('rf', RandomForestClassifier())\n",
    "    ])\n",
    "\n",
    "pipe.fit(X_train, y_train)\n",
    "accuracy_score(y_test, pipe.predict(X_test))"
   ]
  },
  {
   "cell_type": "code",
   "execution_count": 41,
   "metadata": {},
   "outputs": [
    {
     "data": {
      "text/plain": [
       "0.44615588899216574"
      ]
     },
     "execution_count": 41,
     "metadata": {},
     "output_type": "execute_result"
    }
   ],
   "source": [
    "matches_win_fo = matches_win.fillna(0)#.groupby('rank').apply(filter_outliers)\n",
    "X = matches_win_fo.drop(columns = ['rank','car_name', 'map_code', 'color'])\n",
    "y = matches_win_fo['rank']\n",
    "\n",
    "X_train, X_test, y_train, y_test = train_test_split(X, y, random_state=42, stratify = y)\n",
    "\n",
    "pipe = Pipeline(steps = [\n",
    "        ('vt', VarianceThreshold()),\n",
    "        ('scaler', StandardScaler()),\n",
    "        ('rf', RandomForestClassifier())\n",
    "    ])\n",
    "\n",
    "pipe.fit(X_train, y_train)\n",
    "accuracy_score(y_test, pipe.predict(X_test))"
   ]
  },
  {
   "cell_type": "markdown",
   "metadata": {},
   "source": [
    "## Experimenting with FeatureTools"
   ]
  },
  {
   "cell_type": "code",
   "execution_count": 71,
   "metadata": {},
   "outputs": [
    {
     "name": "stderr",
     "output_type": "stream",
     "text": [
      "C:\\Users\\jrior\\anaconda3\\lib\\site-packages\\featuretools\\synthesis\\dfs.py:307: UnusedPrimitiveWarning: Some specified primitives were not used during DFS:\n",
      "  agg_primitives: ['mean', 'mode', 'sum']\n",
      "This may be caused by a using a value of max_depth that is too small, not setting interesting values, or it may indicate no compatible variable types for the primitive were found in the data.\n",
      "  warnings.warn(warning_msg, UnusedPrimitiveWarning)\n"
     ]
    },
    {
     "data": {
      "text/html": [
       "<div>\n",
       "<style scoped>\n",
       "    .dataframe tbody tr th:only-of-type {\n",
       "        vertical-align: middle;\n",
       "    }\n",
       "\n",
       "    .dataframe tbody tr th {\n",
       "        vertical-align: top;\n",
       "    }\n",
       "\n",
       "    .dataframe thead th {\n",
       "        text-align: right;\n",
       "    }\n",
       "</style>\n",
       "<table border=\"1\" class=\"dataframe\">\n",
       "  <thead>\n",
       "    <tr style=\"text-align: right;\">\n",
       "      <th></th>\n",
       "      <th>rank</th>\n",
       "      <th>percent_closest_diff</th>\n",
       "      <th>ground_low_air</th>\n",
       "      <th>boosts_per_collected</th>\n",
       "      <th>save_prop</th>\n",
       "      <th>mean_percent_supersonic_speed</th>\n",
       "      <th>mean_percent_supersonic_speed_squared</th>\n",
       "      <th>avg_powerslide_durations</th>\n",
       "    </tr>\n",
       "    <tr>\n",
       "      <th>match_id</th>\n",
       "      <th></th>\n",
       "      <th></th>\n",
       "      <th></th>\n",
       "      <th></th>\n",
       "      <th></th>\n",
       "      <th></th>\n",
       "      <th></th>\n",
       "      <th></th>\n",
       "    </tr>\n",
       "  </thead>\n",
       "  <tbody>\n",
       "    <tr>\n",
       "      <th>11</th>\n",
       "      <td>bronze</td>\n",
       "      <td>1.0</td>\n",
       "      <td>194.225868</td>\n",
       "      <td>0.892074</td>\n",
       "      <td>0.363636</td>\n",
       "      <td>8.659224</td>\n",
       "      <td>74.982160</td>\n",
       "      <td>-1.660731</td>\n",
       "    </tr>\n",
       "    <tr>\n",
       "      <th>13</th>\n",
       "      <td>bronze</td>\n",
       "      <td>1.0</td>\n",
       "      <td>196.572888</td>\n",
       "      <td>0.972169</td>\n",
       "      <td>0.750000</td>\n",
       "      <td>5.111286</td>\n",
       "      <td>26.125245</td>\n",
       "      <td>-1.427116</td>\n",
       "    </tr>\n",
       "    <tr>\n",
       "      <th>232</th>\n",
       "      <td>bronze</td>\n",
       "      <td>1.0</td>\n",
       "      <td>198.380108</td>\n",
       "      <td>1.033721</td>\n",
       "      <td>0.250000</td>\n",
       "      <td>3.652231</td>\n",
       "      <td>13.338793</td>\n",
       "      <td>-0.941609</td>\n",
       "    </tr>\n",
       "    <tr>\n",
       "      <th>293</th>\n",
       "      <td>bronze</td>\n",
       "      <td>1.0</td>\n",
       "      <td>191.722042</td>\n",
       "      <td>1.066379</td>\n",
       "      <td>0.500000</td>\n",
       "      <td>11.239795</td>\n",
       "      <td>126.332992</td>\n",
       "      <td>-1.108663</td>\n",
       "    </tr>\n",
       "    <tr>\n",
       "      <th>560</th>\n",
       "      <td>bronze</td>\n",
       "      <td>1.0</td>\n",
       "      <td>194.449112</td>\n",
       "      <td>1.062760</td>\n",
       "      <td>0.400000</td>\n",
       "      <td>7.217287</td>\n",
       "      <td>52.089232</td>\n",
       "      <td>-0.994252</td>\n",
       "    </tr>\n",
       "    <tr>\n",
       "      <th>...</th>\n",
       "      <td>...</td>\n",
       "      <td>...</td>\n",
       "      <td>...</td>\n",
       "      <td>...</td>\n",
       "      <td>...</td>\n",
       "      <td>...</td>\n",
       "      <td>...</td>\n",
       "      <td>...</td>\n",
       "    </tr>\n",
       "    <tr>\n",
       "      <th>30108</th>\n",
       "      <td>silver</td>\n",
       "      <td>1.0</td>\n",
       "      <td>198.765044</td>\n",
       "      <td>0.852691</td>\n",
       "      <td>0.142857</td>\n",
       "      <td>4.115631</td>\n",
       "      <td>16.938415</td>\n",
       "      <td>-1.897120</td>\n",
       "    </tr>\n",
       "    <tr>\n",
       "      <th>30111</th>\n",
       "      <td>silver</td>\n",
       "      <td>1.0</td>\n",
       "      <td>199.488894</td>\n",
       "      <td>0.959123</td>\n",
       "      <td>0.000000</td>\n",
       "      <td>5.637619</td>\n",
       "      <td>31.782742</td>\n",
       "      <td>-2.120264</td>\n",
       "    </tr>\n",
       "    <tr>\n",
       "      <th>30112</th>\n",
       "      <td>silver</td>\n",
       "      <td>1.0</td>\n",
       "      <td>197.242386</td>\n",
       "      <td>1.084417</td>\n",
       "      <td>0.428571</td>\n",
       "      <td>8.171837</td>\n",
       "      <td>66.778920</td>\n",
       "      <td>-1.560648</td>\n",
       "    </tr>\n",
       "    <tr>\n",
       "      <th>30118</th>\n",
       "      <td>silver</td>\n",
       "      <td>1.0</td>\n",
       "      <td>190.563732</td>\n",
       "      <td>1.030523</td>\n",
       "      <td>0.500000</td>\n",
       "      <td>9.171167</td>\n",
       "      <td>84.110304</td>\n",
       "      <td>-0.916291</td>\n",
       "    </tr>\n",
       "    <tr>\n",
       "      <th>30119</th>\n",
       "      <td>silver</td>\n",
       "      <td>1.0</td>\n",
       "      <td>195.576080</td>\n",
       "      <td>1.064923</td>\n",
       "      <td>0.333333</td>\n",
       "      <td>11.519113</td>\n",
       "      <td>132.689964</td>\n",
       "      <td>-1.514128</td>\n",
       "    </tr>\n",
       "  </tbody>\n",
       "</table>\n",
       "<p>25707 rows × 8 columns</p>\n",
       "</div>"
      ],
      "text/plain": [
       "            rank  percent_closest_diff  ground_low_air  boosts_per_collected  \\\n",
       "match_id                                                                       \n",
       "11        bronze                   1.0      194.225868              0.892074   \n",
       "13        bronze                   1.0      196.572888              0.972169   \n",
       "232       bronze                   1.0      198.380108              1.033721   \n",
       "293       bronze                   1.0      191.722042              1.066379   \n",
       "560       bronze                   1.0      194.449112              1.062760   \n",
       "...          ...                   ...             ...                   ...   \n",
       "30108     silver                   1.0      198.765044              0.852691   \n",
       "30111     silver                   1.0      199.488894              0.959123   \n",
       "30112     silver                   1.0      197.242386              1.084417   \n",
       "30118     silver                   1.0      190.563732              1.030523   \n",
       "30119     silver                   1.0      195.576080              1.064923   \n",
       "\n",
       "          save_prop  mean_percent_supersonic_speed  \\\n",
       "match_id                                             \n",
       "11         0.363636                       8.659224   \n",
       "13         0.750000                       5.111286   \n",
       "232        0.250000                       3.652231   \n",
       "293        0.500000                      11.239795   \n",
       "560        0.400000                       7.217287   \n",
       "...             ...                            ...   \n",
       "30108      0.142857                       4.115631   \n",
       "30111      0.000000                       5.637619   \n",
       "30112      0.428571                       8.171837   \n",
       "30118      0.500000                       9.171167   \n",
       "30119      0.333333                      11.519113   \n",
       "\n",
       "          mean_percent_supersonic_speed_squared  avg_powerslide_durations  \n",
       "match_id                                                                   \n",
       "11                                    74.982160                 -1.660731  \n",
       "13                                    26.125245                 -1.427116  \n",
       "232                                   13.338793                 -0.941609  \n",
       "293                                  126.332992                 -1.108663  \n",
       "560                                   52.089232                 -0.994252  \n",
       "...                                         ...                       ...  \n",
       "30108                                 16.938415                 -1.897120  \n",
       "30111                                 31.782742                 -2.120264  \n",
       "30112                                 66.778920                 -1.560648  \n",
       "30118                                 84.110304                 -0.916291  \n",
       "30119                                132.689964                 -1.514128  \n",
       "\n",
       "[25707 rows x 8 columns]"
      ]
     },
     "execution_count": 71,
     "metadata": {},
     "output_type": "execute_result"
    }
   ],
   "source": [
    "es = ft.EntitySet(\"rocket_league\")\n",
    "\n",
    "es.entity_from_dataframe(\n",
    "                entity_id='matches_engineered', \n",
    "                dataframe = matches_eng,\n",
    "                index = 'match_id'  \n",
    "    )\n",
    "\n",
    "feature_matrix, feature_defs = ft.dfs(entityset=es,\n",
    "                    target_entity=\"matches_engineered\",\n",
    "                    agg_primitives=[\"mean\", \"sum\", \"mode\"],\n",
    "                    max_depth=1\n",
    "    )\n",
    "\n",
    "feature_matrix"
   ]
  }
 ],
 "metadata": {
  "interpreter": {
   "hash": "91809cd6930bcd5c93f1baaa8e75dc4fbfa15bbd921b33b01843a7cf2fa05e32"
  },
  "kernelspec": {
   "display_name": "Python 3.8.8 ('base')",
   "language": "python",
   "name": "python3"
  },
  "language_info": {
   "codemirror_mode": {
    "name": "ipython",
    "version": 3
   },
   "file_extension": ".py",
   "mimetype": "text/x-python",
   "name": "python",
   "nbconvert_exporter": "python",
   "pygments_lexer": "ipython3",
   "version": "3.8.8"
  },
  "orig_nbformat": 4
 },
 "nbformat": 4,
 "nbformat_minor": 2
}
