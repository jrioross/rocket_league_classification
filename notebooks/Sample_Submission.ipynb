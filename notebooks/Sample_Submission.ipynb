{
 "cells": [
  {
   "cell_type": "code",
   "execution_count": 1,
   "id": "81418fd3",
   "metadata": {},
   "outputs": [],
   "source": [
    "import pandas as pd"
   ]
  },
  {
   "cell_type": "code",
   "execution_count": 2,
   "id": "e7468642",
   "metadata": {},
   "outputs": [],
   "source": [
    "matches = pd.read_csv('../data/train.csv')"
   ]
  },
  {
   "cell_type": "code",
   "execution_count": 3,
   "id": "4c0802ab",
   "metadata": {},
   "outputs": [
    {
     "data": {
      "text/html": [
       "<div>\n",
       "<style scoped>\n",
       "    .dataframe tbody tr th:only-of-type {\n",
       "        vertical-align: middle;\n",
       "    }\n",
       "\n",
       "    .dataframe tbody tr th {\n",
       "        vertical-align: top;\n",
       "    }\n",
       "\n",
       "    .dataframe thead th {\n",
       "        text-align: right;\n",
       "    }\n",
       "</style>\n",
       "<table border=\"1\" class=\"dataframe\">\n",
       "  <thead>\n",
       "    <tr style=\"text-align: right;\">\n",
       "      <th></th>\n",
       "      <th>match_id</th>\n",
       "      <th>color</th>\n",
       "      <th>rank</th>\n",
       "      <th>map_code</th>\n",
       "      <th>duration</th>\n",
       "      <th>car_name</th>\n",
       "      <th>possession_time</th>\n",
       "      <th>time_in_side</th>\n",
       "      <th>shots</th>\n",
       "      <th>shots_against</th>\n",
       "      <th>...</th>\n",
       "      <th>percent_defensive_half</th>\n",
       "      <th>percent_offensive_half</th>\n",
       "      <th>percent_behind_ball</th>\n",
       "      <th>percent_infront_ball</th>\n",
       "      <th>percent_most_back</th>\n",
       "      <th>percent_most_forward</th>\n",
       "      <th>percent_closest_to_ball</th>\n",
       "      <th>percent_farthest_from_ball</th>\n",
       "      <th>demos_inflicted</th>\n",
       "      <th>demos_taken</th>\n",
       "    </tr>\n",
       "  </thead>\n",
       "  <tbody>\n",
       "    <tr>\n",
       "      <th>0</th>\n",
       "      <td>0</td>\n",
       "      <td>blue</td>\n",
       "      <td>silver</td>\n",
       "      <td>neotokyo_standard_p</td>\n",
       "      <td>163</td>\n",
       "      <td>Breakout</td>\n",
       "      <td>54.95</td>\n",
       "      <td>58.96</td>\n",
       "      <td>2</td>\n",
       "      <td>4</td>\n",
       "      <td>...</td>\n",
       "      <td>62.736664</td>\n",
       "      <td>37.263340</td>\n",
       "      <td>66.84289</td>\n",
       "      <td>33.157120</td>\n",
       "      <td>95.53408</td>\n",
       "      <td>95.53408</td>\n",
       "      <td>95.53408</td>\n",
       "      <td>95.53408</td>\n",
       "      <td>1</td>\n",
       "      <td>0</td>\n",
       "    </tr>\n",
       "    <tr>\n",
       "      <th>1</th>\n",
       "      <td>0</td>\n",
       "      <td>orange</td>\n",
       "      <td>silver</td>\n",
       "      <td>neotokyo_standard_p</td>\n",
       "      <td>163</td>\n",
       "      <td>Octane</td>\n",
       "      <td>27.51</td>\n",
       "      <td>80.68</td>\n",
       "      <td>4</td>\n",
       "      <td>2</td>\n",
       "      <td>...</td>\n",
       "      <td>63.576576</td>\n",
       "      <td>36.423428</td>\n",
       "      <td>77.84667</td>\n",
       "      <td>22.153326</td>\n",
       "      <td>98.30417</td>\n",
       "      <td>98.30417</td>\n",
       "      <td>98.30417</td>\n",
       "      <td>98.30417</td>\n",
       "      <td>0</td>\n",
       "      <td>1</td>\n",
       "    </tr>\n",
       "    <tr>\n",
       "      <th>2</th>\n",
       "      <td>1</td>\n",
       "      <td>blue</td>\n",
       "      <td>gold</td>\n",
       "      <td>stadium_foggy_p</td>\n",
       "      <td>460</td>\n",
       "      <td>Octane</td>\n",
       "      <td>132.98</td>\n",
       "      <td>244.72</td>\n",
       "      <td>7</td>\n",
       "      <td>10</td>\n",
       "      <td>...</td>\n",
       "      <td>75.199120</td>\n",
       "      <td>24.800879</td>\n",
       "      <td>73.99232</td>\n",
       "      <td>26.007679</td>\n",
       "      <td>96.94244</td>\n",
       "      <td>96.94244</td>\n",
       "      <td>96.94244</td>\n",
       "      <td>96.94244</td>\n",
       "      <td>0</td>\n",
       "      <td>0</td>\n",
       "    </tr>\n",
       "    <tr>\n",
       "      <th>3</th>\n",
       "      <td>1</td>\n",
       "      <td>orange</td>\n",
       "      <td>gold</td>\n",
       "      <td>stadium_foggy_p</td>\n",
       "      <td>460</td>\n",
       "      <td>Octane</td>\n",
       "      <td>102.55</td>\n",
       "      <td>148.84</td>\n",
       "      <td>10</td>\n",
       "      <td>7</td>\n",
       "      <td>...</td>\n",
       "      <td>55.832005</td>\n",
       "      <td>44.167990</td>\n",
       "      <td>77.79280</td>\n",
       "      <td>22.207201</td>\n",
       "      <td>96.91851</td>\n",
       "      <td>96.91851</td>\n",
       "      <td>96.91851</td>\n",
       "      <td>96.91851</td>\n",
       "      <td>0</td>\n",
       "      <td>0</td>\n",
       "    </tr>\n",
       "  </tbody>\n",
       "</table>\n",
       "<p>4 rows × 91 columns</p>\n",
       "</div>"
      ],
      "text/plain": [
       "   match_id   color    rank             map_code  duration  car_name  \\\n",
       "0         0    blue  silver  neotokyo_standard_p       163  Breakout   \n",
       "1         0  orange  silver  neotokyo_standard_p       163    Octane   \n",
       "2         1    blue    gold      stadium_foggy_p       460    Octane   \n",
       "3         1  orange    gold      stadium_foggy_p       460    Octane   \n",
       "\n",
       "   possession_time  time_in_side  shots  shots_against  ...  \\\n",
       "0            54.95         58.96      2              4  ...   \n",
       "1            27.51         80.68      4              2  ...   \n",
       "2           132.98        244.72      7             10  ...   \n",
       "3           102.55        148.84     10              7  ...   \n",
       "\n",
       "   percent_defensive_half  percent_offensive_half  percent_behind_ball  \\\n",
       "0               62.736664               37.263340             66.84289   \n",
       "1               63.576576               36.423428             77.84667   \n",
       "2               75.199120               24.800879             73.99232   \n",
       "3               55.832005               44.167990             77.79280   \n",
       "\n",
       "   percent_infront_ball  percent_most_back  percent_most_forward  \\\n",
       "0             33.157120           95.53408              95.53408   \n",
       "1             22.153326           98.30417              98.30417   \n",
       "2             26.007679           96.94244              96.94244   \n",
       "3             22.207201           96.91851              96.91851   \n",
       "\n",
       "   percent_closest_to_ball  percent_farthest_from_ball  demos_inflicted  \\\n",
       "0                 95.53408                    95.53408                1   \n",
       "1                 98.30417                    98.30417                0   \n",
       "2                 96.94244                    96.94244                0   \n",
       "3                 96.91851                    96.91851                0   \n",
       "\n",
       "   demos_taken  \n",
       "0            0  \n",
       "1            1  \n",
       "2            0  \n",
       "3            0  \n",
       "\n",
       "[4 rows x 91 columns]"
      ]
     },
     "execution_count": 3,
     "metadata": {},
     "output_type": "execute_result"
    }
   ],
   "source": [
    "matches.head(4)"
   ]
  },
  {
   "cell_type": "markdown",
   "id": "25e1e9f5",
   "metadata": {},
   "source": [
    "**Goal:** Predict the rank based on the total shots."
   ]
  },
  {
   "cell_type": "code",
   "execution_count": 4,
   "id": "b0760e5b",
   "metadata": {},
   "outputs": [
    {
     "data": {
      "text/html": [
       "<div>\n",
       "<style scoped>\n",
       "    .dataframe tbody tr th:only-of-type {\n",
       "        vertical-align: middle;\n",
       "    }\n",
       "\n",
       "    .dataframe tbody tr th {\n",
       "        vertical-align: top;\n",
       "    }\n",
       "\n",
       "    .dataframe thead th {\n",
       "        text-align: right;\n",
       "    }\n",
       "</style>\n",
       "<table border=\"1\" class=\"dataframe\">\n",
       "  <thead>\n",
       "    <tr style=\"text-align: right;\">\n",
       "      <th></th>\n",
       "      <th>match_id</th>\n",
       "      <th>rank</th>\n",
       "      <th>shots</th>\n",
       "    </tr>\n",
       "  </thead>\n",
       "  <tbody>\n",
       "    <tr>\n",
       "      <th>0</th>\n",
       "      <td>0</td>\n",
       "      <td>silver</td>\n",
       "      <td>6</td>\n",
       "    </tr>\n",
       "    <tr>\n",
       "      <th>1</th>\n",
       "      <td>1</td>\n",
       "      <td>gold</td>\n",
       "      <td>17</td>\n",
       "    </tr>\n",
       "    <tr>\n",
       "      <th>2</th>\n",
       "      <td>2</td>\n",
       "      <td>silver</td>\n",
       "      <td>3</td>\n",
       "    </tr>\n",
       "    <tr>\n",
       "      <th>3</th>\n",
       "      <td>3</td>\n",
       "      <td>platinum</td>\n",
       "      <td>12</td>\n",
       "    </tr>\n",
       "    <tr>\n",
       "      <th>4</th>\n",
       "      <td>4</td>\n",
       "      <td>platinum</td>\n",
       "      <td>16</td>\n",
       "    </tr>\n",
       "  </tbody>\n",
       "</table>\n",
       "</div>"
      ],
      "text/plain": [
       "   match_id      rank  shots\n",
       "0         0    silver      6\n",
       "1         1      gold     17\n",
       "2         2    silver      3\n",
       "3         3  platinum     12\n",
       "4         4  platinum     16"
      ]
     },
     "execution_count": 4,
     "metadata": {},
     "output_type": "execute_result"
    }
   ],
   "source": [
    "matches_prepped = matches.groupby(['match_id', 'rank'])['shots'].sum().reset_index()\n",
    "matches_prepped.head()"
   ]
  },
  {
   "cell_type": "code",
   "execution_count": 5,
   "id": "2d0f8d7c",
   "metadata": {},
   "outputs": [],
   "source": [
    "from sklearn.linear_model import LogisticRegression\n",
    "from sklearn.model_selection import train_test_split"
   ]
  },
  {
   "cell_type": "code",
   "execution_count": 19,
   "id": "bae90f48",
   "metadata": {},
   "outputs": [
    {
     "name": "stderr",
     "output_type": "stream",
     "text": [
      "C:\\Users\\jrior\\anaconda3\\lib\\site-packages\\sklearn\\linear_model\\_logistic.py:763: ConvergenceWarning: lbfgs failed to converge (status=1):\n",
      "STOP: TOTAL NO. of ITERATIONS REACHED LIMIT.\n",
      "\n",
      "Increase the number of iterations (max_iter) or scale the data as shown in:\n",
      "    https://scikit-learn.org/stable/modules/preprocessing.html\n",
      "Please also refer to the documentation for alternative solver options:\n",
      "    https://scikit-learn.org/stable/modules/linear_model.html#logistic-regression\n",
      "  n_iter_i = _check_optimize_result(\n"
     ]
    }
   ],
   "source": [
    "variables = ['shots']\n",
    "\n",
    "X = matches_prepped[variables]\n",
    "y = matches_prepped['rank']\n",
    "\n",
    "X_train, X_test, y_train, y_test = train_test_split(X, y, random_state = 321)\n",
    "\n",
    "logreg = LogisticRegression().fit(X_train, y_train)\n",
    "\n",
    "y_pred = logreg.predict(X_test)"
   ]
  },
  {
   "cell_type": "code",
   "execution_count": 7,
   "id": "9676e4c2",
   "metadata": {},
   "outputs": [],
   "source": [
    "from sklearn.metrics import accuracy_score, confusion_matrix, classification_report"
   ]
  },
  {
   "cell_type": "code",
   "execution_count": 8,
   "id": "3b8ad609",
   "metadata": {},
   "outputs": [
    {
     "data": {
      "text/plain": [
       "0.29106360377107954"
      ]
     },
     "execution_count": 8,
     "metadata": {},
     "output_type": "execute_result"
    }
   ],
   "source": [
    "accuracy_score(y_test, y_pred)"
   ]
  },
  {
   "cell_type": "code",
   "execution_count": 9,
   "id": "984c162d",
   "metadata": {},
   "outputs": [
    {
     "data": {
      "text/plain": [
       "array([[   0,    6,   10,   85,   91,    0],\n",
       "       [   0,  586,  265,  110,  484,    0],\n",
       "       [   0,  439,  319,  186,  878,    0],\n",
       "       [   0,  138,  168,  282,  939,    0],\n",
       "       [   0,  309,  280,  271, 1005,    0],\n",
       "       [   0,   42,   60,  165,  413,    0]], dtype=int64)"
      ]
     },
     "execution_count": 9,
     "metadata": {},
     "output_type": "execute_result"
    }
   ],
   "source": [
    "confusion_matrix(y_test, y_pred)"
   ]
  },
  {
   "cell_type": "code",
   "execution_count": 10,
   "id": "a961d7d7",
   "metadata": {},
   "outputs": [
    {
     "name": "stdout",
     "output_type": "stream",
     "text": [
      "              precision    recall  f1-score   support\n",
      "\n",
      "      bronze       0.00      0.00      0.00       192\n",
      "    champion       0.39      0.41      0.40      1445\n",
      "     diamond       0.29      0.18      0.22      1822\n",
      "        gold       0.26      0.18      0.21      1527\n",
      "    platinum       0.26      0.54      0.35      1865\n",
      "      silver       0.00      0.00      0.00       680\n",
      "\n",
      "    accuracy                           0.29      7531\n",
      "   macro avg       0.20      0.22      0.20      7531\n",
      "weighted avg       0.26      0.29      0.26      7531\n",
      "\n"
     ]
    }
   ],
   "source": [
    "print(classification_report(y_test, y_pred, zero_division = 0))"
   ]
  },
  {
   "cell_type": "markdown",
   "id": "b0648086",
   "metadata": {},
   "source": [
    "Now that I'm happy with the results, I want to refit the model on all of the available training data."
   ]
  },
  {
   "cell_type": "code",
   "execution_count": 11,
   "id": "f5052650",
   "metadata": {},
   "outputs": [],
   "source": [
    "logreg = LogisticRegression().fit(X, y)"
   ]
  },
  {
   "cell_type": "code",
   "execution_count": 12,
   "id": "e26dfbc0",
   "metadata": {},
   "outputs": [],
   "source": [
    "test = pd.read_csv('../data/test.csv')"
   ]
  },
  {
   "cell_type": "code",
   "execution_count": 13,
   "id": "b675b092",
   "metadata": {},
   "outputs": [],
   "source": [
    "test = test.groupby('match_id')['shots'].sum().reset_index()"
   ]
  },
  {
   "cell_type": "code",
   "execution_count": 14,
   "id": "85fab62e",
   "metadata": {},
   "outputs": [],
   "source": [
    "y_pred = logreg.predict(test[variables])"
   ]
  },
  {
   "cell_type": "code",
   "execution_count": 15,
   "id": "d9c78614",
   "metadata": {},
   "outputs": [],
   "source": [
    "converter = { 'bronze': 1, 'silver': 2, 'gold': 3, 'platinum': 4, 'diamond': 5, 'champion': 6 }\n",
    "\n",
    "y_pred = pd.Series(y_pred).map(converter)"
   ]
  },
  {
   "cell_type": "code",
   "execution_count": 16,
   "id": "a344deb7",
   "metadata": {},
   "outputs": [],
   "source": [
    "submission = pd.concat([test['match_id'], y_pred], axis = 1).rename(columns = {0: 'rank'})"
   ]
  },
  {
   "cell_type": "code",
   "execution_count": 17,
   "id": "cdfbdbdf",
   "metadata": {},
   "outputs": [],
   "source": [
    "submission.to_csv('../submissions/submission_2022-03-22_v1.csv', index = False)"
   ]
  },
  {
   "cell_type": "code",
   "execution_count": 20,
   "id": "3d8139c0",
   "metadata": {},
   "outputs": [
    {
     "data": {
      "text/html": [
       "<div>\n",
       "<style scoped>\n",
       "    .dataframe tbody tr th:only-of-type {\n",
       "        vertical-align: middle;\n",
       "    }\n",
       "\n",
       "    .dataframe tbody tr th {\n",
       "        vertical-align: top;\n",
       "    }\n",
       "\n",
       "    .dataframe thead th {\n",
       "        text-align: right;\n",
       "    }\n",
       "</style>\n",
       "<table border=\"1\" class=\"dataframe\">\n",
       "  <thead>\n",
       "    <tr style=\"text-align: right;\">\n",
       "      <th></th>\n",
       "      <th>match_id</th>\n",
       "      <th>rank</th>\n",
       "    </tr>\n",
       "  </thead>\n",
       "  <tbody>\n",
       "    <tr>\n",
       "      <th>0</th>\n",
       "      <td>30121</td>\n",
       "      <td>5</td>\n",
       "    </tr>\n",
       "    <tr>\n",
       "      <th>1</th>\n",
       "      <td>30122</td>\n",
       "      <td>3</td>\n",
       "    </tr>\n",
       "    <tr>\n",
       "      <th>2</th>\n",
       "      <td>30123</td>\n",
       "      <td>4</td>\n",
       "    </tr>\n",
       "    <tr>\n",
       "      <th>3</th>\n",
       "      <td>30124</td>\n",
       "      <td>3</td>\n",
       "    </tr>\n",
       "    <tr>\n",
       "      <th>4</th>\n",
       "      <td>30125</td>\n",
       "      <td>4</td>\n",
       "    </tr>\n",
       "    <tr>\n",
       "      <th>...</th>\n",
       "      <td>...</td>\n",
       "      <td>...</td>\n",
       "    </tr>\n",
       "    <tr>\n",
       "      <th>2495</th>\n",
       "      <td>32616</td>\n",
       "      <td>4</td>\n",
       "    </tr>\n",
       "    <tr>\n",
       "      <th>2496</th>\n",
       "      <td>32617</td>\n",
       "      <td>3</td>\n",
       "    </tr>\n",
       "    <tr>\n",
       "      <th>2497</th>\n",
       "      <td>32618</td>\n",
       "      <td>4</td>\n",
       "    </tr>\n",
       "    <tr>\n",
       "      <th>2498</th>\n",
       "      <td>32619</td>\n",
       "      <td>4</td>\n",
       "    </tr>\n",
       "    <tr>\n",
       "      <th>2499</th>\n",
       "      <td>32620</td>\n",
       "      <td>4</td>\n",
       "    </tr>\n",
       "  </tbody>\n",
       "</table>\n",
       "<p>2500 rows × 2 columns</p>\n",
       "</div>"
      ],
      "text/plain": [
       "      match_id  rank\n",
       "0        30121     5\n",
       "1        30122     3\n",
       "2        30123     4\n",
       "3        30124     3\n",
       "4        30125     4\n",
       "...        ...   ...\n",
       "2495     32616     4\n",
       "2496     32617     3\n",
       "2497     32618     4\n",
       "2498     32619     4\n",
       "2499     32620     4\n",
       "\n",
       "[2500 rows x 2 columns]"
      ]
     },
     "execution_count": 20,
     "metadata": {},
     "output_type": "execute_result"
    }
   ],
   "source": [
    "submission"
   ]
  }
 ],
 "metadata": {
  "kernelspec": {
   "display_name": "Python 3 (ipykernel)",
   "language": "python",
   "name": "python3"
  },
  "language_info": {
   "codemirror_mode": {
    "name": "ipython",
    "version": 3
   },
   "file_extension": ".py",
   "mimetype": "text/x-python",
   "name": "python",
   "nbconvert_exporter": "python",
   "pygments_lexer": "ipython3",
   "version": "3.8.8"
  }
 },
 "nbformat": 4,
 "nbformat_minor": 5
}
